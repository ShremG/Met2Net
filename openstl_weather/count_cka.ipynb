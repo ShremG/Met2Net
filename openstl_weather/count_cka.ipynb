{
 "cells": [
  {
   "cell_type": "code",
   "execution_count": null,
   "metadata": {},
   "outputs": [],
   "source": [
    "import torch\n",
    "import torch.nn as nn\n",
    "\n",
    "# 构建一个 Conv3d 层，分别设置时间维度、空间高度和宽度的步长\n",
    "conv3d_layer = nn.Conv3d(\n",
    "    in_channels=3,       # 输入通道数，例如 RGB 图像\n",
    "    out_channels=16,     # 输出通道数\n",
    "    kernel_size=(3, 3, 3), # 卷积核大小\n",
    "    stride=(2, 2, 2),    # 对空间维度降采样，对时间维度不降采样\n",
    "    padding=1            # 填充使输出与输入大小相同\n",
    ")\n",
    "\n",
    "# 假设输入张量的形状为 (batch_size, channels, depth, height, width)\n",
    "input_tensor = torch.randn(1, 3, 10, 32, 32)  # (batch, channels, depth, height, width)\n",
    "\n",
    "# 前向传播\n",
    "output = conv3d_layer(input_tensor)\n",
    "\n",
    "print(\"输出形状:\", output.shape)\n",
    "from openstl.models.ITS.module.basicblock import ConvSC3D\n",
    "cc = ConvSC3D(3,128,stride=(1,2,2))\n",
    "out = cc(input_tensor)\n",
    "print(out.shape)\n"
   ]
  },
  {
   "cell_type": "code",
   "execution_count": 3,
   "metadata": {},
   "outputs": [
    {
     "name": "stdout",
     "output_type": "stream",
     "text": [
      "输出形状: torch.Size([1, 8, 10, 32, 64])\n",
      "torch.Size([1, 128, 10, 32, 64])\n"
     ]
    }
   ],
   "source": [
    "import torch\n",
    "import torch.nn as nn\n",
    "\n",
    "# 定义一个反卷积3D层\n",
    "deconv3d_layer = nn.ConvTranspose3d(\n",
    "    in_channels=16,    # 输入通道数\n",
    "    out_channels=8,    # 输出通道数\n",
    "    kernel_size=3,     # 卷积核大小\n",
    "    stride=2,          # 上采样步长，输出尺寸会变为原来的2倍\n",
    "    padding=1,         # 填充\n",
    "    output_padding=1   # 确保输出维度完全匹配\n",
    ")\n",
    "\n",
    "# 假设输入的形状为 (batch_size, channels, depth, height, width)\n",
    "input_tensor = torch.randn(1, 16, 5, 16, 32)  # 1个样本，16个通道，深度10，高度32，宽度32\n",
    "\n",
    "# 前向传播，得到上采样后的输出\n",
    "output = deconv3d_layer(input_tensor)\n",
    "\n",
    "# 输出的形状会扩大为 (batch_size, out_channels, new_depth, new_height, new_width)\n",
    "print(\"输出形状:\", output.shape)\n",
    "\n",
    "from openstl.models.ITS.module.basicblock import UNConvSC3D\n",
    "cc = UNConvSC3D(16,128,stride=(2,2,2),output_padding=(1,1,1))\n",
    "out = cc(input_tensor)\n",
    "print(out.shape)\n"
   ]
  }
 ],
 "metadata": {
  "kernelspec": {
   "display_name": "openstl",
   "language": "python",
   "name": "python3"
  },
  "language_info": {
   "codemirror_mode": {
    "name": "ipython",
    "version": 3
   },
   "file_extension": ".py",
   "mimetype": "text/x-python",
   "name": "python",
   "nbconvert_exporter": "python",
   "pygments_lexer": "ipython3",
   "version": "3.10.8"
  }
 },
 "nbformat": 4,
 "nbformat_minor": 2
}
